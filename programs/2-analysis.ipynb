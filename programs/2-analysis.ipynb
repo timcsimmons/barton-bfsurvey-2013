{
 "cells": [
  {
   "cell_type": "markdown",
   "metadata": {},
   "source": [
    "# Breastfeeding survey analysis\n",
    "\n",
    "This notebook analyses the survey responses to Jessica Barton's breastfeeding questionnaire.\n",
    "\n",
    "Items\n",
    "\n",
    "  - Summarize population (number screened, criteria, >= 18 years old, Morena usage positive or negative)\n",
    "  - Within population, summarize demographic factors (age, race, ethnicity, education, income, marital status), exposure, covariates, and outcome\n",
    "  - Exposure: Morena usage\n",
    "  - Covariates:\n",
    "    - Hormonal issues (how defined?)\n",
    "    - Difficulty conceiving\n",
    "    - Age of baby at start of birth control (Morena?)\n",
    "    - Age of mother\n",
    "    - Mother overweight\n",
    "  - Outcome: milk supply went down\n",
    "  \n",
    "  - Describe unadjusted \"rate\" of outcome for each birth control type\n",
    "  - Describe \"rate\" adjusted for covariates for each birth control type?"
   ]
  },
  {
   "cell_type": "code",
   "execution_count": null,
   "metadata": {
    "collapsed": true
   },
   "outputs": [],
   "source": []
  }
 ],
 "metadata": {
  "kernelspec": {
   "display_name": "Python 3",
   "language": "python",
   "name": "python3"
  },
  "language_info": {
   "codemirror_mode": {
    "name": "ipython",
    "version": 3
   },
   "file_extension": ".py",
   "mimetype": "text/x-python",
   "name": "python",
   "nbconvert_exporter": "python",
   "pygments_lexer": "ipython3",
   "version": "3.5.2"
  }
 },
 "nbformat": 4,
 "nbformat_minor": 0
}
