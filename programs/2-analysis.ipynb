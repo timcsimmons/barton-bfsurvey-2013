{
 "cells": [
  {
   "cell_type": "markdown",
   "metadata": {},
   "source": [
    "# Breastfeeding survey analysis\n",
    "\n",
    "This notebook analyses the survey responses to Jessica Barton's breastfeeding questionnaire.\n",
    "\n",
    "Items\n",
    "\n",
    "  - Summarize population (number screened, criteria, >= 18 years old, Mirena usage positive or negative)\n",
    "  - Within population, summarize demographic factors (age, race, ethnicity, education, income, marital status), exposure, covariates, and outcome\n",
    "  - Exposure: Mirena usage [= hormonal IUD]\n",
    "  - Covariates:\n",
    "    - Hormonal issues (how defined?)\n",
    "    - Difficulty conceiving\n",
    "    - Age of baby at start of birth control (Mirena?)\n",
    "    - Age of mother\n",
    "    - Mother overweight\n",
    "  - Outcome: milk supply went down\n",
    "  \n",
    "  - Describe unadjusted \"rate\" of outcome for each birth control type\n",
    "  - Describe \"rate\" adjusted for covariates for each birth control type?"
   ]
  },
  {
   "cell_type": "markdown",
   "metadata": {},
   "source": [
    "## Setup and read in the data"
   ]
  },
  {
   "cell_type": "code",
   "execution_count": 1,
   "metadata": {
    "collapsed": true
   },
   "outputs": [],
   "source": [
    "import sqlite3\n",
    "import numpy as np\n",
    "import pandas as pd\n",
    "from pandas.io.sql import read_sql_query\n",
    "\n",
    "import matplotlib.pyplot as plt\n",
    "%matplotlib inline"
   ]
  },
  {
   "cell_type": "code",
   "execution_count": 2,
   "metadata": {
    "collapsed": false
   },
   "outputs": [],
   "source": [
    "conn = sqlite3.connect('../data/analysis.sqlite3')\n",
    "curs = conn.cursor()\n",
    "curs.execute(\"attach database '../data/codes.sqlite3' as codes;\")\n",
    "\n",
    "population_query = '''\n",
    "    select RespondentId, sex, age_yc, bf_status, age_mother, AP, AP_reason\n",
    "    from survey\n",
    "'''\n",
    "\n",
    "population = read_sql_query(population_query, conn)\n",
    "survey = read_sql_query('select * from survey where AP = 1', conn)\n",
    "\n",
    "def table(column, connection=conn):\n",
    "    '''Query a database to summarize a coded variable using its code table'''\n",
    "    query = '''\n",
    "        select c.Code, c.Description, count(*) as n\n",
    "        from survey as s left join codes.{} as c on s.{} = c.Code\n",
    "        where s.AP = 1\n",
    "        group by c.Code, c.Description\n",
    "        order by 1\n",
    "    '''.format(column, column, column)\n",
    "    \n",
    "    t = read_sql_query(query, connection)\n",
    "    n = t.n[t.Code.notnull()]\n",
    "    t['%'] = np.round(n/n.sum() * 1000)/10\n",
    "    \n",
    "    return t"
   ]
  },
  {
   "cell_type": "code",
   "execution_count": 3,
   "metadata": {
    "collapsed": false
   },
   "outputs": [
    {
     "data": {
      "text/html": [
       "<div>\n",
       "<table border=\"1\" class=\"dataframe\">\n",
       "  <thead>\n",
       "    <tr style=\"text-align: right;\">\n",
       "      <th></th>\n",
       "      <th>RespondentID</th>\n",
       "      <th>sex</th>\n",
       "      <th>age_yc</th>\n",
       "      <th>bf_status</th>\n",
       "      <th>age_mother</th>\n",
       "      <th>AP</th>\n",
       "      <th>AP_reason</th>\n",
       "    </tr>\n",
       "  </thead>\n",
       "  <tbody>\n",
       "    <tr>\n",
       "      <th>0</th>\n",
       "      <td>2503542169</td>\n",
       "      <td>2</td>\n",
       "      <td>2.0</td>\n",
       "      <td>NaN</td>\n",
       "      <td>NaN</td>\n",
       "      <td>0</td>\n",
       "      <td>2</td>\n",
       "    </tr>\n",
       "    <tr>\n",
       "      <th>1</th>\n",
       "      <td>2503602344</td>\n",
       "      <td>2</td>\n",
       "      <td>1.0</td>\n",
       "      <td>1.0</td>\n",
       "      <td>29.0</td>\n",
       "      <td>1</td>\n",
       "      <td>0</td>\n",
       "    </tr>\n",
       "    <tr>\n",
       "      <th>2</th>\n",
       "      <td>2503604232</td>\n",
       "      <td>2</td>\n",
       "      <td>1.0</td>\n",
       "      <td>1.0</td>\n",
       "      <td>32.0</td>\n",
       "      <td>1</td>\n",
       "      <td>0</td>\n",
       "    </tr>\n",
       "    <tr>\n",
       "      <th>3</th>\n",
       "      <td>2503605645</td>\n",
       "      <td>2</td>\n",
       "      <td>1.0</td>\n",
       "      <td>1.0</td>\n",
       "      <td>32.0</td>\n",
       "      <td>1</td>\n",
       "      <td>0</td>\n",
       "    </tr>\n",
       "    <tr>\n",
       "      <th>4</th>\n",
       "      <td>2503606246</td>\n",
       "      <td>2</td>\n",
       "      <td>1.0</td>\n",
       "      <td>1.0</td>\n",
       "      <td>32.0</td>\n",
       "      <td>1</td>\n",
       "      <td>0</td>\n",
       "    </tr>\n",
       "  </tbody>\n",
       "</table>\n",
       "</div>"
      ],
      "text/plain": [
       "   RespondentID  sex  age_yc  bf_status  age_mother  AP  AP_reason\n",
       "0    2503542169    2     2.0        NaN         NaN   0          2\n",
       "1    2503602344    2     1.0        1.0        29.0   1          0\n",
       "2    2503604232    2     1.0        1.0        32.0   1          0\n",
       "3    2503605645    2     1.0        1.0        32.0   1          0\n",
       "4    2503606246    2     1.0        1.0        32.0   1          0"
      ]
     },
     "execution_count": 3,
     "metadata": {},
     "output_type": "execute_result"
    }
   ],
   "source": [
    "population.head()"
   ]
  },
  {
   "cell_type": "markdown",
   "metadata": {},
   "source": [
    "## Summarize enrollment"
   ]
  },
  {
   "cell_type": "code",
   "execution_count": 4,
   "metadata": {
    "collapsed": false
   },
   "outputs": [
    {
     "data": {
      "text/html": [
       "<div>\n",
       "<table border=\"1\" class=\"dataframe\">\n",
       "  <thead>\n",
       "    <tr style=\"text-align: right;\">\n",
       "      <th></th>\n",
       "      <th></th>\n",
       "      <th>n</th>\n",
       "    </tr>\n",
       "    <tr>\n",
       "      <th>Code</th>\n",
       "      <th>Description</th>\n",
       "      <th></th>\n",
       "    </tr>\n",
       "  </thead>\n",
       "  <tbody>\n",
       "    <tr>\n",
       "      <th>0</th>\n",
       "      <th>Total screened</th>\n",
       "      <td>4688</td>\n",
       "    </tr>\n",
       "    <tr>\n",
       "      <th>1</th>\n",
       "      <th>Respondent was male</th>\n",
       "      <td>8</td>\n",
       "    </tr>\n",
       "    <tr>\n",
       "      <th>2</th>\n",
       "      <th>Youngest child older than 18 months</th>\n",
       "      <td>391</td>\n",
       "    </tr>\n",
       "    <tr>\n",
       "      <th>3</th>\n",
       "      <th>Youngest child weaned more than 18 months ago</th>\n",
       "      <td>7</td>\n",
       "    </tr>\n",
       "    <tr>\n",
       "      <th>4</th>\n",
       "      <th>Youngest child never breastfed</th>\n",
       "      <td>10</td>\n",
       "    </tr>\n",
       "    <tr>\n",
       "      <th>5</th>\n",
       "      <th>Respondent not confirmed 18 years or older</th>\n",
       "      <td>540</td>\n",
       "    </tr>\n",
       "    <tr>\n",
       "      <th>10</th>\n",
       "      <th>Total included in analysis population</th>\n",
       "      <td>3732</td>\n",
       "    </tr>\n",
       "  </tbody>\n",
       "</table>\n",
       "</div>"
      ],
      "text/plain": [
       "                                                       n\n",
       "Code Description                                        \n",
       "0    Total screened                                 4688\n",
       "1    Respondent was male                               8\n",
       "2    Youngest child older than 18 months             391\n",
       "3    Youngest child weaned more than 18 months ago     7\n",
       "4    Youngest child never breastfed                   10\n",
       "5    Respondent not confirmed 18 years or older      540\n",
       "10   Total included in analysis population          3732"
      ]
     },
     "execution_count": 4,
     "metadata": {},
     "output_type": "execute_result"
    }
   ],
   "source": [
    "read_sql_query('''\n",
    "    select 0 as Code, 'Total screened' as Description, count(*) as n\n",
    "    from survey\n",
    "        union all\n",
    "    select a.Code, a.Description, count(*) as n\n",
    "    from codes.AP_reason as a\n",
    "        inner join survey as s\n",
    "            on a.Code = s.AP_reason\n",
    "    group by a.Code, a.Description\n",
    "        union all\n",
    "    select 10 as Code, 'Total included in analysis population', count(*) as n\n",
    "    from survey\n",
    "    where AP = 1\n",
    "    order by 1\n",
    "''', conn).set_index(['Code', 'Description'])"
   ]
  },
  {
   "cell_type": "code",
   "execution_count": 5,
   "metadata": {
    "collapsed": false
   },
   "outputs": [
    {
     "data": {
      "text/plain": [
       "3732"
      ]
     },
     "execution_count": 5,
     "metadata": {},
     "output_type": "execute_result"
    }
   ],
   "source": [
    "# Check total\n",
    "4688 - (8 + 391 + 7 + 10 + 540)"
   ]
  },
  {
   "cell_type": "markdown",
   "metadata": {},
   "source": [
    "Based on the above, 4,688 attempted with survey, with 8 being excluded for being male, 391 for not having a young enough child, 7 for having weaned too long ago, 10 for never having breastfed their youngest child, and 540 for being too young (or not having clean enough data to show how old they were). A total of 3,732 are therefore eligible to be included in the main analysis.\n",
    "\n",
    "Parenthetically, the age restriction is a bit conservative. As we only collected birth year and all of the surveys were completed in 2013, age was computed as the smallest possible age (that is, as age before birthday in 2013)."
   ]
  },
  {
   "cell_type": "markdown",
   "metadata": {},
   "source": [
    "### Demographics and other characteristics"
   ]
  },
  {
   "cell_type": "code",
   "execution_count": 6,
   "metadata": {
    "collapsed": false
   },
   "outputs": [
    {
     "data": {
      "text/html": [
       "<div>\n",
       "<table border=\"1\" class=\"dataframe\">\n",
       "  <thead>\n",
       "    <tr style=\"text-align: right;\">\n",
       "      <th></th>\n",
       "      <th>count</th>\n",
       "      <th>mean</th>\n",
       "      <th>std</th>\n",
       "      <th>min</th>\n",
       "      <th>25%</th>\n",
       "      <th>50%</th>\n",
       "      <th>75%</th>\n",
       "      <th>max</th>\n",
       "    </tr>\n",
       "  </thead>\n",
       "  <tbody>\n",
       "    <tr>\n",
       "      <th>age_mother</th>\n",
       "      <td>3732.0</td>\n",
       "      <td>30.379957</td>\n",
       "      <td>4.411652</td>\n",
       "      <td>18.000000</td>\n",
       "      <td>28.000000</td>\n",
       "      <td>30.000000</td>\n",
       "      <td>33.000000</td>\n",
       "      <td>48.000000</td>\n",
       "    </tr>\n",
       "    <tr>\n",
       "      <th>height</th>\n",
       "      <td>3728.0</td>\n",
       "      <td>65.132511</td>\n",
       "      <td>2.774048</td>\n",
       "      <td>58.000000</td>\n",
       "      <td>63.000000</td>\n",
       "      <td>65.000000</td>\n",
       "      <td>67.000000</td>\n",
       "      <td>76.000000</td>\n",
       "    </tr>\n",
       "    <tr>\n",
       "      <th>weight</th>\n",
       "      <td>3691.0</td>\n",
       "      <td>160.642373</td>\n",
       "      <td>38.928696</td>\n",
       "      <td>80.000000</td>\n",
       "      <td>132.000000</td>\n",
       "      <td>152.000000</td>\n",
       "      <td>180.000000</td>\n",
       "      <td>370.000000</td>\n",
       "    </tr>\n",
       "    <tr>\n",
       "      <th>bmi</th>\n",
       "      <td>3689.0</td>\n",
       "      <td>26.599141</td>\n",
       "      <td>6.139525</td>\n",
       "      <td>11.477551</td>\n",
       "      <td>22.148708</td>\n",
       "      <td>25.237773</td>\n",
       "      <td>29.911562</td>\n",
       "      <td>57.919123</td>\n",
       "    </tr>\n",
       "    <tr>\n",
       "      <th>menarche</th>\n",
       "      <td>3710.0</td>\n",
       "      <td>12.519137</td>\n",
       "      <td>1.451484</td>\n",
       "      <td>8.000000</td>\n",
       "      <td>12.000000</td>\n",
       "      <td>12.000000</td>\n",
       "      <td>13.000000</td>\n",
       "      <td>21.000000</td>\n",
       "    </tr>\n",
       "    <tr>\n",
       "      <th>BC_age</th>\n",
       "      <td>3182.0</td>\n",
       "      <td>18.241672</td>\n",
       "      <td>3.149685</td>\n",
       "      <td>11.000000</td>\n",
       "      <td>16.000000</td>\n",
       "      <td>18.000000</td>\n",
       "      <td>20.000000</td>\n",
       "      <td>35.000000</td>\n",
       "    </tr>\n",
       "  </tbody>\n",
       "</table>\n",
       "</div>"
      ],
      "text/plain": [
       "             count        mean        std        min         25%         50%  \\\n",
       "age_mother  3732.0   30.379957   4.411652  18.000000   28.000000   30.000000   \n",
       "height      3728.0   65.132511   2.774048  58.000000   63.000000   65.000000   \n",
       "weight      3691.0  160.642373  38.928696  80.000000  132.000000  152.000000   \n",
       "bmi         3689.0   26.599141   6.139525  11.477551   22.148708   25.237773   \n",
       "menarche    3710.0   12.519137   1.451484   8.000000   12.000000   12.000000   \n",
       "BC_age      3182.0   18.241672   3.149685  11.000000   16.000000   18.000000   \n",
       "\n",
       "                   75%         max  \n",
       "age_mother   33.000000   48.000000  \n",
       "height       67.000000   76.000000  \n",
       "weight      180.000000  370.000000  \n",
       "bmi          29.911562   57.919123  \n",
       "menarche     13.000000   21.000000  \n",
       "BC_age       20.000000   35.000000  "
      ]
     },
     "execution_count": 6,
     "metadata": {},
     "output_type": "execute_result"
    }
   ],
   "source": [
    "continuous = ['age_mother', 'height', 'weight', 'bmi', 'menarche', 'BC_age']\n",
    "pd.concat([survey[[s]].dropna().describe().unstack().unstack() for s in continuous])"
   ]
  },
  {
   "cell_type": "code",
   "execution_count": 7,
   "metadata": {
    "collapsed": false
   },
   "outputs": [
    {
     "data": {
      "image/png": "[encoded data removed]",
      "text/plain": [
       "<matplotlib.figure.Figure at 0x7f6b0d1b2d30>"
      ]
     },
     "metadata": {},
     "output_type": "display_data"
    },
    {
     "data": {
      "image/png": "[encoded data removed]",
      "text/plain": [
       "<matplotlib.figure.Figure at 0x7f6b0d1d7b70>"
      ]
     },
     "metadata": {},
     "output_type": "display_data"
    },
    {
     "data": {
      "image/png": "[encoded data removed]",
      "text/plain": [
       "<matplotlib.figure.Figure at 0x7f6b0d10cda0>"
      ]
     },
     "metadata": {},
     "output_type": "display_data"
    },
    {
     "data": {
      "image/png": "[encoded data removed]",
      "text/plain": [
       "<matplotlib.figure.Figure at 0x7f6b0d081080>"
      ]
     },
     "metadata": {},
     "output_type": "display_data"
    },
    {
     "data": {
      "image/png": "[encoded data removed]",
      "text/plain": [
       "<matplotlib.figure.Figure at 0x7f6b0af685c0>"
      ]
     },
     "metadata": {},
     "output_type": "display_data"
    },
    {
     "data": {
      "image/png": "[encoded data removed]",
      "text/plain": [
       "<matplotlib.figure.Figure at 0x7f6b0af4e1d0>"
      ]
     },
     "metadata": {},
     "output_type": "display_data"
    }
   ],
   "source": [
    "for s in continuous:\n",
    "    survey[[s]].hist()"
   ]
  },
  {
   "cell_type": "code",
   "execution_count": 8,
   "metadata": {
    "collapsed": false
   },
   "outputs": [
    {
     "data": {
      "text/html": [
       "<div>\n",
       "<table border=\"1\" class=\"dataframe\">\n",
       "  <thead>\n",
       "    <tr style=\"text-align: right;\">\n",
       "      <th></th>\n",
       "      <th></th>\n",
       "      <th>Code</th>\n",
       "      <th>Description</th>\n",
       "      <th>n</th>\n",
       "      <th>%</th>\n",
       "    </tr>\n",
       "  </thead>\n",
       "  <tbody>\n",
       "    <tr>\n",
       "      <th rowspan=\"7\" valign=\"top\">race</th>\n",
       "      <th>0</th>\n",
       "      <td>NaN</td>\n",
       "      <td>None</td>\n",
       "      <td>66</td>\n",
       "      <td>NaN</td>\n",
       "    </tr>\n",
       "    <tr>\n",
       "      <th>1</th>\n",
       "      <td>1.0</td>\n",
       "      <td>White</td>\n",
       "      <td>3421</td>\n",
       "      <td>93.3</td>\n",
       "    </tr>\n",
       "    <tr>\n",
       "      <th>2</th>\n",
       "      <td>2.0</td>\n",
       "      <td>Black or African-American</td>\n",
       "      <td>44</td>\n",
       "      <td>1.2</td>\n",
       "    </tr>\n",
       "    <tr>\n",
       "      <th>3</th>\n",
       "      <td>3.0</td>\n",
       "      <td>American Indian or Alaskan Native</td>\n",
       "      <td>22</td>\n",
       "      <td>0.6</td>\n",
       "    </tr>\n",
       "    <tr>\n",
       "      <th>4</th>\n",
       "      <td>4.0</td>\n",
       "      <td>Asian</td>\n",
       "      <td>44</td>\n",
       "      <td>1.2</td>\n",
       "    </tr>\n",
       "    <tr>\n",
       "      <th>5</th>\n",
       "      <td>5.0</td>\n",
       "      <td>Native Hawaiian or other Pacific Islander</td>\n",
       "      <td>8</td>\n",
       "      <td>0.2</td>\n",
       "    </tr>\n",
       "    <tr>\n",
       "      <th>6</th>\n",
       "      <td>6.0</td>\n",
       "      <td>From multiple races</td>\n",
       "      <td>127</td>\n",
       "      <td>3.5</td>\n",
       "    </tr>\n",
       "    <tr>\n",
       "      <th rowspan=\"3\" valign=\"top\">ethnicity</th>\n",
       "      <th>0</th>\n",
       "      <td>NaN</td>\n",
       "      <td>None</td>\n",
       "      <td>89</td>\n",
       "      <td>NaN</td>\n",
       "    </tr>\n",
       "    <tr>\n",
       "      <th>1</th>\n",
       "      <td>1.0</td>\n",
       "      <td>Hispanic or Latino</td>\n",
       "      <td>208</td>\n",
       "      <td>5.7</td>\n",
       "    </tr>\n",
       "    <tr>\n",
       "      <th>2</th>\n",
       "      <td>2.0</td>\n",
       "      <td>Not Hispanic or Latino</td>\n",
       "      <td>3435</td>\n",
       "      <td>94.3</td>\n",
       "    </tr>\n",
       "    <tr>\n",
       "      <th rowspan=\"7\" valign=\"top\">education</th>\n",
       "      <th>0</th>\n",
       "      <td>NaN</td>\n",
       "      <td>None</td>\n",
       "      <td>5</td>\n",
       "      <td>NaN</td>\n",
       "    </tr>\n",
       "    <tr>\n",
       "      <th>1</th>\n",
       "      <td>1.0</td>\n",
       "      <td>Less than high school degree</td>\n",
       "      <td>25</td>\n",
       "      <td>0.7</td>\n",
       "    </tr>\n",
       "    <tr>\n",
       "      <th>2</th>\n",
       "      <td>2.0</td>\n",
       "      <td>High school degree or equivalent (e.g., GED)</td>\n",
       "      <td>178</td>\n",
       "      <td>4.8</td>\n",
       "    </tr>\n",
       "    <tr>\n",
       "      <th>3</th>\n",
       "      <td>3.0</td>\n",
       "      <td>Some college but no degree</td>\n",
       "      <td>697</td>\n",
       "      <td>18.7</td>\n",
       "    </tr>\n",
       "    <tr>\n",
       "      <th>4</th>\n",
       "      <td>4.0</td>\n",
       "      <td>Associate degree</td>\n",
       "      <td>370</td>\n",
       "      <td>9.9</td>\n",
       "    </tr>\n",
       "    <tr>\n",
       "      <th>5</th>\n",
       "      <td>5.0</td>\n",
       "      <td>Bachelor degree</td>\n",
       "      <td>1454</td>\n",
       "      <td>39.0</td>\n",
       "    </tr>\n",
       "    <tr>\n",
       "      <th>6</th>\n",
       "      <td>6.0</td>\n",
       "      <td>Graduate degree</td>\n",
       "      <td>1003</td>\n",
       "      <td>26.9</td>\n",
       "    </tr>\n",
       "    <tr>\n",
       "      <th rowspan=\"13\" valign=\"top\">income</th>\n",
       "      <th>0</th>\n",
       "      <td>NaN</td>\n",
       "      <td>None</td>\n",
       "      <td>146</td>\n",
       "      <td>NaN</td>\n",
       "    </tr>\n",
       "    <tr>\n",
       "      <th>1</th>\n",
       "      <td>1.0</td>\n",
       "      <td>Less than \\$10,000</td>\n",
       "      <td>59</td>\n",
       "      <td>1.6</td>\n",
       "    </tr>\n",
       "    <tr>\n",
       "      <th>2</th>\n",
       "      <td>2.0</td>\n",
       "      <td>\\$10,000 - \\$19,000</td>\n",
       "      <td>101</td>\n",
       "      <td>2.8</td>\n",
       "    </tr>\n",
       "    <tr>\n",
       "      <th>3</th>\n",
       "      <td>3.0</td>\n",
       "      <td>\\$20,000 - \\$29,000</td>\n",
       "      <td>220</td>\n",
       "      <td>6.1</td>\n",
       "    </tr>\n",
       "    <tr>\n",
       "      <th>4</th>\n",
       "      <td>4.0</td>\n",
       "      <td>\\$30,000 - \\$39,000</td>\n",
       "      <td>314</td>\n",
       "      <td>8.8</td>\n",
       "    </tr>\n",
       "    <tr>\n",
       "      <th>5</th>\n",
       "      <td>5.0</td>\n",
       "      <td>\\$40,000 - \\$49,000</td>\n",
       "      <td>303</td>\n",
       "      <td>8.4</td>\n",
       "    </tr>\n",
       "    <tr>\n",
       "      <th>6</th>\n",
       "      <td>6.0</td>\n",
       "      <td>\\$50,000 - \\$59,000</td>\n",
       "      <td>325</td>\n",
       "      <td>9.1</td>\n",
       "    </tr>\n",
       "    <tr>\n",
       "      <th>7</th>\n",
       "      <td>7.0</td>\n",
       "      <td>\\$60,000 - \\$69,000</td>\n",
       "      <td>329</td>\n",
       "      <td>9.2</td>\n",
       "    </tr>\n",
       "    <tr>\n",
       "      <th>8</th>\n",
       "      <td>8.0</td>\n",
       "      <td>\\$70,000 - \\$79,000</td>\n",
       "      <td>363</td>\n",
       "      <td>10.1</td>\n",
       "    </tr>\n",
       "    <tr>\n",
       "      <th>9</th>\n",
       "      <td>9.0</td>\n",
       "      <td>\\$80,000 - \\$89,000</td>\n",
       "      <td>312</td>\n",
       "      <td>8.7</td>\n",
       "    </tr>\n",
       "    <tr>\n",
       "      <th>10</th>\n",
       "      <td>10.0</td>\n",
       "      <td>\\$90,000 - \\$99,000</td>\n",
       "      <td>293</td>\n",
       "      <td>8.2</td>\n",
       "    </tr>\n",
       "    <tr>\n",
       "      <th>11</th>\n",
       "      <td>11.0</td>\n",
       "      <td>\\$100,000 - \\$149,000</td>\n",
       "      <td>659</td>\n",
       "      <td>18.4</td>\n",
       "    </tr>\n",
       "    <tr>\n",
       "      <th>12</th>\n",
       "      <td>12.0</td>\n",
       "      <td>\\$150,000 or More</td>\n",
       "      <td>308</td>\n",
       "      <td>8.6</td>\n",
       "    </tr>\n",
       "    <tr>\n",
       "      <th rowspan=\"6\" valign=\"top\">marital_status</th>\n",
       "      <th>0</th>\n",
       "      <td>NaN</td>\n",
       "      <td>None</td>\n",
       "      <td>7</td>\n",
       "      <td>NaN</td>\n",
       "    </tr>\n",
       "    <tr>\n",
       "      <th>1</th>\n",
       "      <td>1.0</td>\n",
       "      <td>Married</td>\n",
       "      <td>3436</td>\n",
       "      <td>92.2</td>\n",
       "    </tr>\n",
       "    <tr>\n",
       "      <th>2</th>\n",
       "      <td>2.0</td>\n",
       "      <td>Widowed</td>\n",
       "      <td>6</td>\n",
       "      <td>0.2</td>\n",
       "    </tr>\n",
       "    <tr>\n",
       "      <th>3</th>\n",
       "      <td>3.0</td>\n",
       "      <td>Divorced</td>\n",
       "      <td>36</td>\n",
       "      <td>1.0</td>\n",
       "    </tr>\n",
       "    <tr>\n",
       "      <th>4</th>\n",
       "      <td>4.0</td>\n",
       "      <td>Separated</td>\n",
       "      <td>18</td>\n",
       "      <td>0.5</td>\n",
       "    </tr>\n",
       "    <tr>\n",
       "      <th>5</th>\n",
       "      <td>5.0</td>\n",
       "      <td>Never married</td>\n",
       "      <td>229</td>\n",
       "      <td>6.1</td>\n",
       "    </tr>\n",
       "  </tbody>\n",
       "</table>\n",
       "</div>"
      ],
      "text/plain": [
       "                   Code                                   Description     n  \\\n",
       "race           0    NaN                                          None    66   \n",
       "               1    1.0                                         White  3421   \n",
       "               2    2.0                     Black or African-American    44   \n",
       "               3    3.0             American Indian or Alaskan Native    22   \n",
       "               4    4.0                                         Asian    44   \n",
       "               5    5.0     Native Hawaiian or other Pacific Islander     8   \n",
       "               6    6.0                           From multiple races   127   \n",
       "ethnicity      0    NaN                                          None    89   \n",
       "               1    1.0                            Hispanic or Latino   208   \n",
       "               2    2.0                        Not Hispanic or Latino  3435   \n",
       "education      0    NaN                                          None     5   \n",
       "               1    1.0                  Less than high school degree    25   \n",
       "               2    2.0  High school degree or equivalent (e.g., GED)   178   \n",
       "               3    3.0                    Some college but no degree   697   \n",
       "               4    4.0                              Associate degree   370   \n",
       "               5    5.0                               Bachelor degree  1454   \n",
       "               6    6.0                               Graduate degree  1003   \n",
       "income         0    NaN                                          None   146   \n",
       "               1    1.0                            Less than \\$10,000    59   \n",
       "               2    2.0                           \\$10,000 - \\$19,000   101   \n",
       "               3    3.0                           \\$20,000 - \\$29,000   220   \n",
       "               4    4.0                           \\$30,000 - \\$39,000   314   \n",
       "               5    5.0                           \\$40,000 - \\$49,000   303   \n",
       "               6    6.0                           \\$50,000 - \\$59,000   325   \n",
       "               7    7.0                           \\$60,000 - \\$69,000   329   \n",
       "               8    8.0                           \\$70,000 - \\$79,000   363   \n",
       "               9    9.0                           \\$80,000 - \\$89,000   312   \n",
       "               10  10.0                           \\$90,000 - \\$99,000   293   \n",
       "               11  11.0                         \\$100,000 - \\$149,000   659   \n",
       "               12  12.0                             \\$150,000 or More   308   \n",
       "marital_status 0    NaN                                          None     7   \n",
       "               1    1.0                                       Married  3436   \n",
       "               2    2.0                                       Widowed     6   \n",
       "               3    3.0                                      Divorced    36   \n",
       "               4    4.0                                     Separated    18   \n",
       "               5    5.0                                 Never married   229   \n",
       "\n",
       "                      %  \n",
       "race           0    NaN  \n",
       "               1   93.3  \n",
       "               2    1.2  \n",
       "               3    0.6  \n",
       "               4    1.2  \n",
       "               5    0.2  \n",
       "               6    3.5  \n",
       "ethnicity      0    NaN  \n",
       "               1    5.7  \n",
       "               2   94.3  \n",
       "education      0    NaN  \n",
       "               1    0.7  \n",
       "               2    4.8  \n",
       "               3   18.7  \n",
       "               4    9.9  \n",
       "               5   39.0  \n",
       "               6   26.9  \n",
       "income         0    NaN  \n",
       "               1    1.6  \n",
       "               2    2.8  \n",
       "               3    6.1  \n",
       "               4    8.8  \n",
       "               5    8.4  \n",
       "               6    9.1  \n",
       "               7    9.2  \n",
       "               8   10.1  \n",
       "               9    8.7  \n",
       "               10   8.2  \n",
       "               11  18.4  \n",
       "               12   8.6  \n",
       "marital_status 0    NaN  \n",
       "               1   92.2  \n",
       "               2    0.2  \n",
       "               3    1.0  \n",
       "               4    0.5  \n",
       "               5    6.1  "
      ]
     },
     "execution_count": 8,
     "metadata": {},
     "output_type": "execute_result"
    }
   ],
   "source": [
    "categoricals = ['race', 'ethnicity', 'education', 'income', 'marital_status']\n",
    "tables = [table(c) for c in categoricals]\n",
    "pd.concat(tables, keys=categoricals)"
   ]
  },
  {
   "cell_type": "markdown",
   "metadata": {},
   "source": [
    "### Quick summary of body mass index within the population\n",
    "\n",
    "This is a little different from the analysis that Frances already ran. Not sure why, since we're looking at the same data..."
   ]
  },
  {
   "cell_type": "code",
   "execution_count": 9,
   "metadata": {
    "collapsed": false
   },
   "outputs": [
    {
     "data": {
      "text/plain": [
       "<matplotlib.axes._subplots.AxesSubplot at 0x7f6b0aeedef0>"
      ]
     },
     "execution_count": 9,
     "metadata": {},
     "output_type": "execute_result"
    },
    {
     "data": {
      "image/png": "[encoded data removed]",
      "text/plain": [
       "<matplotlib.figure.Figure at 0x7f6b0d198b70>"
      ]
     },
     "metadata": {},
     "output_type": "display_data"
    }
   ],
   "source": [
    "survey.bmi.hist()"
   ]
  },
  {
   "cell_type": "code",
   "execution_count": 10,
   "metadata": {
    "collapsed": false
   },
   "outputs": [
    {
     "data": {
      "text/html": [
       "<div>\n",
       "<table border=\"1\" class=\"dataframe\">\n",
       "  <thead>\n",
       "    <tr style=\"text-align: right;\">\n",
       "      <th></th>\n",
       "      <th>Code</th>\n",
       "      <th>Description</th>\n",
       "      <th>n</th>\n",
       "      <th>%</th>\n",
       "    </tr>\n",
       "  </thead>\n",
       "  <tbody>\n",
       "    <tr>\n",
       "      <th>0</th>\n",
       "      <td>NaN</td>\n",
       "      <td>None</td>\n",
       "      <td>43</td>\n",
       "      <td>NaN</td>\n",
       "    </tr>\n",
       "    <tr>\n",
       "      <th>1</th>\n",
       "      <td>1.0</td>\n",
       "      <td>Underweight</td>\n",
       "      <td>111</td>\n",
       "      <td>3.0</td>\n",
       "    </tr>\n",
       "    <tr>\n",
       "      <th>2</th>\n",
       "      <td>2.0</td>\n",
       "      <td>Normal weight</td>\n",
       "      <td>1659</td>\n",
       "      <td>45.0</td>\n",
       "    </tr>\n",
       "    <tr>\n",
       "      <th>3</th>\n",
       "      <td>3.0</td>\n",
       "      <td>Overweight</td>\n",
       "      <td>1020</td>\n",
       "      <td>27.6</td>\n",
       "    </tr>\n",
       "    <tr>\n",
       "      <th>4</th>\n",
       "      <td>4.0</td>\n",
       "      <td>Obese</td>\n",
       "      <td>899</td>\n",
       "      <td>24.4</td>\n",
       "    </tr>\n",
       "  </tbody>\n",
       "</table>\n",
       "</div>"
      ],
      "text/plain": [
       "   Code    Description     n     %\n",
       "0   NaN           None    43   NaN\n",
       "1   1.0    Underweight   111   3.0\n",
       "2   2.0  Normal weight  1659  45.0\n",
       "3   3.0     Overweight  1020  27.6\n",
       "4   4.0          Obese   899  24.4"
      ]
     },
     "execution_count": 10,
     "metadata": {},
     "output_type": "execute_result"
    }
   ],
   "source": [
    "table('bmi_category')"
   ]
  },
  {
   "cell_type": "code",
   "execution_count": null,
   "metadata": {
    "collapsed": true
   },
   "outputs": [],
   "source": []
  }
 ],
 "metadata": {
  "kernelspec": {
   "display_name": "Python 3",
   "language": "python",
   "name": "python3"
  },
  "language_info": {
   "codemirror_mode": {
    "name": "ipython",
    "version": 3
   },
   "file_extension": ".py",
   "mimetype": "text/x-python",
   "name": "python",
   "nbconvert_exporter": "python",
   "pygments_lexer": "ipython3",
   "version": "3.5.2"
  }
 },
 "nbformat": 4,
 "nbformat_minor": 0
}
