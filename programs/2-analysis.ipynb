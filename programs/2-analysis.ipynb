{
 "cells": [
  {
   "cell_type": "markdown",
   "metadata": {},
   "source": [
    "# Breastfeeding survey analysis\n",
    "\n",
    "This notebook analyses the survey responses to Jessica Barton's breastfeeding questionnaire.\n",
    "\n",
    "Items\n",
    "\n",
    "  - Summarize population (number screened, criteria, >= 18 years old, Morena usage positive or negative)\n",
    "  - Within population, summarize demographic factors (age, race, ethnicity, education, income, marital status), exposure, covariates, and outcome\n",
    "  - Exposure: Morena usage\n",
    "  - Covariates:\n",
    "    - Hormonal issues (how defined?)\n",
    "    - Difficulty conceiving\n",
    "    - Age of baby at start of birth control (Morena?)\n",
    "    - Age of mother\n",
    "    - Mother overweight\n",
    "  - Outcome: milk supply went down\n",
    "  \n",
    "  - Describe unadjusted \"rate\" of outcome for each birth control type\n",
    "  - Describe \"rate\" adjusted for covariates for each birth control type?"
   ]
  },
  {
   "cell_type": "markdown",
   "metadata": {},
   "source": [
    "## Setup and read in the data"
   ]
  },
  {
   "cell_type": "code",
   "execution_count": 1,
   "metadata": {
    "collapsed": true
   },
   "outputs": [],
   "source": [
    "import sqlite3\n",
    "import numpy as np\n",
    "import pandas as pd\n",
    "from pandas.io.sql import read_sql_query\n",
    "\n",
    "import matplotlib.pyplot as plt\n",
    "%matplotlib inline"
   ]
  },
  {
   "cell_type": "code",
   "execution_count": 2,
   "metadata": {
    "collapsed": false
   },
   "outputs": [],
   "source": [
    "conn = sqlite3.connect('../data/analysis.sqlite3')\n",
    "curs = conn.cursor()\n",
    "curs.execute(\"attach database '../data/codes.sqlite3' as codes;\")\n",
    "\n",
    "population_query = '''\n",
    "    select RespondentId, sex, age_yc, bf_status, age_mother, AP, AP_reason\n",
    "    from survey\n",
    "'''\n",
    "\n",
    "population = read_sql_query(population_query, conn)\n",
    "survey = read_sql_query('select * from survey where AP = 1', conn)"
   ]
  },
  {
   "cell_type": "code",
   "execution_count": 3,
   "metadata": {
    "collapsed": false
   },
   "outputs": [
    {
     "data": {
      "text/html": [
       "<div>\n",
       "<table border=\"1\" class=\"dataframe\">\n",
       "  <thead>\n",
       "    <tr style=\"text-align: right;\">\n",
       "      <th></th>\n",
       "      <th>RespondentID</th>\n",
       "      <th>sex</th>\n",
       "      <th>age_yc</th>\n",
       "      <th>bf_status</th>\n",
       "      <th>age_mother</th>\n",
       "      <th>AP</th>\n",
       "      <th>AP_reason</th>\n",
       "    </tr>\n",
       "  </thead>\n",
       "  <tbody>\n",
       "    <tr>\n",
       "      <th>0</th>\n",
       "      <td>2503542169</td>\n",
       "      <td>2</td>\n",
       "      <td>2.0</td>\n",
       "      <td>NaN</td>\n",
       "      <td>NaN</td>\n",
       "      <td>0</td>\n",
       "      <td>2</td>\n",
       "    </tr>\n",
       "    <tr>\n",
       "      <th>1</th>\n",
       "      <td>2503602344</td>\n",
       "      <td>2</td>\n",
       "      <td>1.0</td>\n",
       "      <td>1.0</td>\n",
       "      <td>29.0</td>\n",
       "      <td>1</td>\n",
       "      <td>0</td>\n",
       "    </tr>\n",
       "    <tr>\n",
       "      <th>2</th>\n",
       "      <td>2503604232</td>\n",
       "      <td>2</td>\n",
       "      <td>1.0</td>\n",
       "      <td>1.0</td>\n",
       "      <td>32.0</td>\n",
       "      <td>1</td>\n",
       "      <td>0</td>\n",
       "    </tr>\n",
       "    <tr>\n",
       "      <th>3</th>\n",
       "      <td>2503605645</td>\n",
       "      <td>2</td>\n",
       "      <td>1.0</td>\n",
       "      <td>1.0</td>\n",
       "      <td>32.0</td>\n",
       "      <td>1</td>\n",
       "      <td>0</td>\n",
       "    </tr>\n",
       "    <tr>\n",
       "      <th>4</th>\n",
       "      <td>2503606246</td>\n",
       "      <td>2</td>\n",
       "      <td>1.0</td>\n",
       "      <td>1.0</td>\n",
       "      <td>32.0</td>\n",
       "      <td>1</td>\n",
       "      <td>0</td>\n",
       "    </tr>\n",
       "  </tbody>\n",
       "</table>\n",
       "</div>"
      ],
      "text/plain": [
       "   RespondentID  sex  age_yc  bf_status  age_mother  AP  AP_reason\n",
       "0    2503542169    2     2.0        NaN         NaN   0          2\n",
       "1    2503602344    2     1.0        1.0        29.0   1          0\n",
       "2    2503604232    2     1.0        1.0        32.0   1          0\n",
       "3    2503605645    2     1.0        1.0        32.0   1          0\n",
       "4    2503606246    2     1.0        1.0        32.0   1          0"
      ]
     },
     "execution_count": 3,
     "metadata": {},
     "output_type": "execute_result"
    }
   ],
   "source": [
    "population.head()"
   ]
  },
  {
   "cell_type": "markdown",
   "metadata": {},
   "source": [
    "## Summarize enrollment"
   ]
  },
  {
   "cell_type": "code",
   "execution_count": 4,
   "metadata": {
    "collapsed": false
   },
   "outputs": [
    {
     "data": {
      "text/html": [
       "<div>\n",
       "<table border=\"1\" class=\"dataframe\">\n",
       "  <thead>\n",
       "    <tr style=\"text-align: right;\">\n",
       "      <th></th>\n",
       "      <th></th>\n",
       "      <th>n</th>\n",
       "    </tr>\n",
       "    <tr>\n",
       "      <th>Code</th>\n",
       "      <th>Description</th>\n",
       "      <th></th>\n",
       "    </tr>\n",
       "  </thead>\n",
       "  <tbody>\n",
       "    <tr>\n",
       "      <th>0</th>\n",
       "      <th>Total screened</th>\n",
       "      <td>4688</td>\n",
       "    </tr>\n",
       "    <tr>\n",
       "      <th>1</th>\n",
       "      <th>Respondent was male</th>\n",
       "      <td>8</td>\n",
       "    </tr>\n",
       "    <tr>\n",
       "      <th>2</th>\n",
       "      <th>Youngest child older than 18 months</th>\n",
       "      <td>391</td>\n",
       "    </tr>\n",
       "    <tr>\n",
       "      <th>3</th>\n",
       "      <th>Youngest child weaned more than 18 months ago</th>\n",
       "      <td>7</td>\n",
       "    </tr>\n",
       "    <tr>\n",
       "      <th>4</th>\n",
       "      <th>Youngest child never breastfed</th>\n",
       "      <td>10</td>\n",
       "    </tr>\n",
       "    <tr>\n",
       "      <th>5</th>\n",
       "      <th>Respondent not confirmed 18 years or older</th>\n",
       "      <td>540</td>\n",
       "    </tr>\n",
       "  </tbody>\n",
       "</table>\n",
       "</div>"
      ],
      "text/plain": [
       "                                                       n\n",
       "Code Description                                        \n",
       "0    Total screened                                 4688\n",
       "1    Respondent was male                               8\n",
       "2    Youngest child older than 18 months             391\n",
       "3    Youngest child weaned more than 18 months ago     7\n",
       "4    Youngest child never breastfed                   10\n",
       "5    Respondent not confirmed 18 years or older      540"
      ]
     },
     "execution_count": 4,
     "metadata": {},
     "output_type": "execute_result"
    }
   ],
   "source": [
    "read_sql_query('''\n",
    "    select 0 as Code, 'Total screened' as Description, count(*) as n\n",
    "    from survey\n",
    "        union all\n",
    "    select a.Code, a.Description, count(*) as n\n",
    "    from codes.AP_reason as a\n",
    "        inner join survey as s\n",
    "            on a.Code = s.AP_reason\n",
    "    group by a.Code, a.Description\n",
    "    order by 1\n",
    "''', conn).set_index(['Code', 'Description'])"
   ]
  },
  {
   "cell_type": "markdown",
   "metadata": {},
   "source": [
    "Based on the above, 4,688 attempted with survey, with 8 being excluded for being male, 391 for not having a young enough child, 7 for having weaned too long ago, 10 for never having breastfed their youngest child, and 540 for being too young (or not having clean enough data to show how old they were).\n",
    "\n",
    "The age restriction is a bit conservative, since we only collected birth year. Since all of the surveys were completed in 2013, age was computed as the smallest possible age (that is, as age before birthday in 2013)."
   ]
  }
 ],
 "metadata": {
  "kernelspec": {
   "display_name": "Python 3",
   "language": "python",
   "name": "python3"
  },
  "language_info": {
   "codemirror_mode": {
    "name": "ipython",
    "version": 3
   },
   "file_extension": ".py",
   "mimetype": "text/x-python",
   "name": "python",
   "nbconvert_exporter": "python",
   "pygments_lexer": "ipython3",
   "version": "3.5.2"
  }
 },
 "nbformat": 4,
 "nbformat_minor": 0
}
